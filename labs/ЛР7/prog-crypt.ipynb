{
 "cells": [
  {
   "cell_type": "code",
   "execution_count": 1,
   "id": "c638d301-d8f8-4b19-b875-572bc05ae5b1",
   "metadata": {},
   "outputs": [],
   "source": [
    "import numpy as np\n",
    "from random import randrange"
   ]
  },
  {
   "cell_type": "code",
   "execution_count": 2,
   "id": "5aa622ab-25e3-4601-b9df-2cd8ca3fa690",
   "metadata": {},
   "outputs": [],
   "source": [
    "# 1/ задаем строку для шифрования\n",
    "\n",
    "t = \"С Новым Годом, друзья!\""
   ]
  },
  {
   "cell_type": "code",
   "execution_count": 3,
   "id": "186be493-5229-4b49-a95b-0347a37cc609",
   "metadata": {},
   "outputs": [
    {
     "name": "stdout",
     "output_type": "stream",
     "text": [
      "['91', '20', '8d', 'ae', 'a2', 'eb', 'ac', '20', '83', 'ae', 'a4', 'ae', 'ac', '2c', '20', 'a4', 'e0', 'e3', 'a7', 'ec', 'ef', '21']\n"
     ]
    }
   ],
   "source": [
    "# 2/ переведем строку в hex \n",
    "\n",
    "hex_message = []\n",
    "for i in t:\n",
    "    hex_message.append(i.encode(\"cp866\").hex())\n",
    "print (hex_message)"
   ]
  },
  {
   "cell_type": "code",
   "execution_count": 4,
   "id": "2608d76a-a8b6-4959-84b1-019992676f76",
   "metadata": {
    "tags": []
   },
   "outputs": [
    {
     "name": "stdout",
     "output_type": "stream",
     "text": [
      "['a6', 'd6', 'e8', '35', 'f3', '1d', '41', 'e1', '88', 'd1', 'bd', '2a', '16', '80', 'a2', '20', 'ed', '6a', 'fc', '67', 'ce', '9d']\n"
     ]
    }
   ],
   "source": [
    "# 3/ задаем ключ, такой же длины, что и строка для шифрования \n",
    "\n",
    "def gen_key(length: int):\n",
    "    key = []\n",
    "    for i in range(0,length):\n",
    "        key.append(hex(randrange(255))[2:])\n",
    "    return key\n",
    "\n",
    "key_1 = gen_key(len(hex_message))\n",
    "print(key_1)"
   ]
  },
  {
   "cell_type": "code",
   "execution_count": 5,
   "id": "ceaf4ecb-2668-4254-bbf9-8d5be60d6b74",
   "metadata": {},
   "outputs": [
    {
     "name": "stdout",
     "output_type": "stream",
     "text": [
      "['37', 'f6', '65', '9b', '51', 'f6', 'ed', 'c1', 'b', '7f', '19', '84', 'ba', 'ac', '82', '84', 'd', '89', '5b', '8b', '21', 'bc']\n"
     ]
    }
   ],
   "source": [
    "# 4/ кодируем строку с помощью ключа\n",
    "\n",
    "def encode_message(hex_message, key):\n",
    "    return [\"%x\" % (int(x,16) ^ int(y,16)) for (x, y) in zip(hex_message, key)]\n",
    "            \n",
    "encoded_message = encode_message(hex_message, key_1)\n",
    "print(encoded_message)"
   ]
  },
  {
   "cell_type": "code",
   "execution_count": 6,
   "id": "c46c6ac0-8664-4b5c-8c49-a796fbeb8ba2",
   "metadata": {},
   "outputs": [
    {
     "name": "stdout",
     "output_type": "stream",
     "text": [
      "7ЎeЫQЎэ┴╖ёШKк╚(MЙ[Л!╝\n"
     ]
    }
   ],
   "source": [
    "# сообщение текстом\n",
    "\n",
    "def code_to_lang(encoded_message):\n",
    "    return bytearray.fromhex(\"\".join(encoded_message)).decode(\"cp866\")\n",
    "\n",
    "encoded_text = code_to_lang(encoded_message)\n",
    "print(encoded_text)"
   ]
  },
  {
   "cell_type": "code",
   "execution_count": 7,
   "id": "3a3e2c40-fedf-4cfb-9563-e8a290eb1f23",
   "metadata": {},
   "outputs": [
    {
     "name": "stdout",
     "output_type": "stream",
     "text": [
      "['7a', 'f1', '5b', '3e', 'ea', 'd', '9e', '23', 'd6', '3e', '40', 'd9', 'de', '6b', 'd8', '9b', 'b', '4f', '3a', '6e', '14', 'eb']\n"
     ]
    }
   ],
   "source": [
    "# 5/ задаем ключ для расшифровки\n",
    "key_2 = gen_key(len(hex_message))\n",
    "print(key_2)"
   ]
  },
  {
   "cell_type": "code",
   "execution_count": 8,
   "id": "d30a7d69-eb3a-4ab3-9a85-ef6543f9c9af",
   "metadata": {},
   "outputs": [
    {
     "name": "stdout",
     "output_type": "stream",
     "text": [
      "['4d', '7', '3e', 'a5', 'bb', 'fb', '73', 'e2', 'dd', '41', '59', '5d', '64', 'c7', '5a', '1f', '6', 'c6', '61', 'e5', '35', '57']\n"
     ]
    }
   ],
   "source": [
    "# 6/ декодируем с помощью нового ключа\n",
    "\n",
    "def decode_message(key, encoded_message):\n",
    "    return [\"%x\" % (int(x,16) ^ int(y,16)) for (x, y) in zip(key, encoded_message)]\n",
    "\n",
    "decoded_message = decode_message(key_2, encoded_message)\n",
    "print(decoded_message)"
   ]
  },
  {
   "cell_type": "code",
   "execution_count": 9,
   "id": "9d0a6af9-d03b-4718-bf45-b0573eeac606",
   "metadata": {},
   "outputs": [
    {
     "name": "stdout",
     "output_type": "stream",
     "text": [
      "Msъ[┐╖>-╘\u0015Х╓LuбЎ╞aх5W\n"
     ]
    }
   ],
   "source": [
    "decoded_text = code_to_lang(decoded_message)\n",
    "print(decoded_text)"
   ]
  },
  {
   "cell_type": "code",
   "execution_count": 10,
   "id": "55c14401-3612-427e-8744-2027931292db",
   "metadata": {},
   "outputs": [
    {
     "name": "stdout",
     "output_type": "stream",
     "text": [
      "С Новым Годом, друзья!\n"
     ]
    }
   ],
   "source": [
    "# 7/ декодируем с помощью правильного ключа\n",
    "\n",
    "decoded_message_r = decode_message(key_1, encoded_message)\n",
    "decoded_text_r = code_to_lang(decoded_message_r)\n",
    "print(decoded_text_r)"
   ]
  }
 ],
 "metadata": {
  "kernelspec": {
   "display_name": "Python 3 (ipykernel)",
   "language": "python",
   "name": "python3"
  },
  "language_info": {
   "codemirror_mode": {
    "name": "ipython",
    "version": 3
   },
   "file_extension": ".py",
   "mimetype": "text/x-python",
   "name": "python",
   "nbconvert_exporter": "python",
   "pygments_lexer": "ipython3",
   "version": "3.9.12"
  }
 },
 "nbformat": 4,
 "nbformat_minor": 5
}
