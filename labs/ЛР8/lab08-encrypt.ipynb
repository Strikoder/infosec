{
 "cells": [
  {
   "cell_type": "code",
   "execution_count": 63,
   "id": "ce836ae1-ed0d-484f-b31a-c20bf5f6693d",
   "metadata": {},
   "outputs": [
    {
     "name": "stdout",
     "output_type": "stream",
     "text": [
      "Тексты: НаВашисходящийот1204 ,  ВСеверныйфилиалБанка\n",
      "Ключ Центра: ['05', '0C', '17', '7F', '0E', '4E', '37', 'D2', '94', '10', '09', '2E', '22', '57', 'FF', 'C8', '0B', 'B2', '70', '54']\n"
     ]
    }
   ],
   "source": [
    "# исходные данные\n",
    "P1 = 'НаВашисходящийот1204'\n",
    "P2 = 'ВСеверныйфилиалБанка'\n",
    "K = ['{:02X}'.format(0x05), '{:02X}'.format(0x0C), \n",
    "     '{:02X}'.format(0x17), '{:02X}'.format(0x7F),\n",
    "     '{:02X}'.format(0x0E), '{:02X}'.format(0x4E),\n",
    "     '{:02X}'.format(0x37), '{:02X}'.format(0xD2),\n",
    "     '{:02X}'.format(0x94), '{:02X}'.format(0x10),\n",
    "     '{:02X}'.format(0x09), '{:02X}'.format(0x2E), \n",
    "     '{:02X}'.format(0x22), '{:02X}'.format(0x57), \n",
    "     '{:02X}'.format(0xFF), '{:02X}'.format(0xC8), \n",
    "     '{:02X}'.format(0x0B), '{:02X}'.format(0xB2), \n",
    "     '{:02X}'.format(0x70), '{:02X}'.format(0x54)]\n",
    "print(\"Тексты:\", P1, \", \", P2)\n",
    "print(\"Ключ Центра:\", K)"
   ]
  },
  {
   "cell_type": "code",
   "execution_count": 65,
   "id": "281903df-3c2b-411d-a8d1-c3718fbea128",
   "metadata": {},
   "outputs": [
    {
     "name": "stdout",
     "output_type": "stream",
     "text": [
      "Тексты в hex \n",
      " ['CD', 'E0', 'C2', 'E0', 'F8', 'E8', 'F1', 'F5', 'EE', 'E4', 'FF', 'F9', 'E8', 'E9', 'EE', 'F2', '31', '32', '30', '34'] , \n",
      " ['C2', 'D1', 'E5', 'E2', 'E5', 'F0', 'ED', 'FB', 'E9', 'F4', 'E8', 'EB', 'E8', 'E0', 'EB', 'C1', 'E0', 'ED', 'EA', 'E0']\n"
     ]
    }
   ],
   "source": [
    "# перевод текста в hex\n",
    "def to_hex(text):\n",
    "    return [(i.encode('cp1251')).hex().upper() for i in text]\n",
    "\n",
    "t1 = to_hex(P1)\n",
    "t2 = to_hex(P2)\n",
    "print(\"Тексты в hex \\n\", t1, \", \\n\", t2)"
   ]
  },
  {
   "cell_type": "code",
   "execution_count": 83,
   "id": "47511c10-98d6-4889-80fa-97a97f3884da",
   "metadata": {},
   "outputs": [
    {
     "name": "stdout",
     "output_type": "stream",
     "text": [
      "Зашифрованные тексты в hex \n",
      " ['C8', 'EC', 'D5', '9F', 'F6', 'A6', 'C6', '27', '7A', 'F4', 'F6', 'D7', 'CA', 'BE', '11', '3A', '3A', '80', '40', '60'] , \n",
      " ['C7', 'DD', 'F2', '9D', 'EB', 'BE', 'DA', '29', '7D', 'E4', 'E1', 'C5', 'CA', 'B7', '14', '09', 'EB', '5F', '9A', 'B4']\n"
     ]
    }
   ],
   "source": [
    "# кодируем строку с помощью ключа\n",
    "\n",
    "def encode_message(hex_message, key):\n",
    "    return ([\"%02X\" % (int(x,16) ^ int(y,16)) for (x, y) in zip(hex_message, key)])\n",
    "\n",
    "C1 = encode_message(t1, K)\n",
    "C2 = encode_message(t2, K)\n",
    "\n",
    "print(\"Зашифрованные тексты в hex \\n\", C1, \", \\n\", C2)"
   ]
  },
  {
   "cell_type": "code",
   "execution_count": 84,
   "id": "61efa715-d716-49bd-93ee-6c0139873f6b",
   "metadata": {},
   "outputs": [
    {
     "name": "stdout",
     "output_type": "stream",
     "text": [
      "Зашифрованные тексты \n",
      " ['И', 'м', 'Х', 'џ', 'ц', '¦', 'Ж', \"'\", 'z', 'ф', 'ц', 'Ч', 'К', 'ѕ', '\\x11', ':', ':', 'Ђ', '@', '`'] , \n",
      " ['З', 'Э', 'т', 'ќ', 'л', 'ѕ', 'Ъ', ')', '}', 'д', 'б', 'Е', 'К', '·', '\\x14', '\\t', 'л', '_', 'љ', 'ґ']\n"
     ]
    }
   ],
   "source": [
    "# переводим шифр в текст\n",
    "\n",
    "\n",
    "def cipher_text(C):\n",
    "    return [(bytes.fromhex(i)).decode('cp1251') for i in C]\n",
    "\n",
    "T1 = cipher_text(C1)\n",
    "T2 = cipher_text(C2)\n",
    "\n",
    "print(\"Зашифрованные тексты \\n\", T1, \", \\n\", T2)"
   ]
  },
  {
   "cell_type": "code",
   "execution_count": 85,
   "id": "52ed1c02-d3e5-459e-bdc0-afa4d9d6c31b",
   "metadata": {},
   "outputs": [
    {
     "name": "stdout",
     "output_type": "stream",
     "text": [
      "Зашифрованные тексты \n",
      " ИмХџц¦Ж'zфцЧКѕ\u0011::Ђ@` , \n",
      " ЗЭтќлѕЪ)}дбЕК·\u0014\tл_љґ\n"
     ]
    }
   ],
   "source": [
    "def code_to_lang(encoded_message):\n",
    "    return bytearray.fromhex(\"\".join(encoded_message)).decode(\"cp1251\")\n",
    "\n",
    "T_1 = code_to_lang(C1)\n",
    "T_2 = code_to_lang(C2)\n",
    "print(\"Зашифрованные тексты \\n\", T_1, \", \\n\", T_2)"
   ]
  },
  {
   "cell_type": "code",
   "execution_count": 86,
   "id": "001bcb76-2813-456e-9678-68e69b54c67f",
   "metadata": {},
   "outputs": [
    {
     "name": "stdout",
     "output_type": "stream",
     "text": [
      "Поиск второго текста по первому \n",
      " ['C2', 'D1', 'E5', 'E2', 'E5', 'F0', 'ED', 'FB', 'E9', 'F4', 'E8', 'EB', 'E8', 'E0', 'EB', 'C1', 'E0', 'ED', 'EA', 'E0']  , \n",
      " ВСеверныйфилиалБанка\n",
      "Поиск первого текста по второму \n",
      " ['CD', 'E0', 'C2', 'E0', 'F8', 'E8', 'F1', 'F5', 'EE', 'E4', 'FF', 'F9', 'E8', 'E9', 'EE', 'F2', '31', '32', '30', '34']  , \n",
      " НаВашисходящийот1204\n"
     ]
    }
   ],
   "source": [
    "# разгадывание второго текста по первому\n",
    "def guess_text(c1, c2, p1):\n",
    "    return ([\"%02X\" % (int(x,16) ^ int(y,16) ^ int(z,16)) for (x, y,z) \n",
    "             in zip(c1, c2, p1)])\n",
    "\n",
    "g1 = guess_text(C1, C2, t1)\n",
    "g2 = guess_text(C2, C1, t2)\n",
    "\n",
    "print(\"Поиск второго текста по первому \\n\", g1, \" , \\n\", code_to_lang(g1) )\n",
    "print(\"Поиск первого текста по второму \\n\", g2, \" , \\n\", code_to_lang(g2) )"
   ]
  }
 ],
 "metadata": {
  "kernelspec": {
   "display_name": "Python 3 (ipykernel)",
   "language": "python",
   "name": "python3"
  },
  "language_info": {
   "codemirror_mode": {
    "name": "ipython",
    "version": 3
   },
   "file_extension": ".py",
   "mimetype": "text/x-python",
   "name": "python",
   "nbconvert_exporter": "python",
   "pygments_lexer": "ipython3",
   "version": "3.9.12"
  }
 },
 "nbformat": 4,
 "nbformat_minor": 5
}
